{
 "cells": [
  {
   "cell_type": "code",
   "execution_count": 3,
   "id": "d756a52e-44ee-480c-8497-767bfd98a3d2",
   "metadata": {},
   "outputs": [],
   "source": [
    "#Ans1-statistics is the science of the the collectioning ,organizing and analyzing  of the data."
   ]
  },
  {
   "cell_type": "code",
   "execution_count": 6,
   "id": "db3bd536-5672-4918-8baf-efcd4b28f802",
   "metadata": {},
   "outputs": [
    {
     "data": {
      "text/plain": [
       "'Ans2-there are two types of the statistics \\na-Descriptive statistics-despcriptive statistics is a statistics that consists of the organizing and summarizing of the data.\\nfor example-histogram,pdf,pmf\\nb-Infrential statistics-it consists of using data you have measured to form a conclusion.\\nfor example sample data to find the conclusion of the population data\\nexample-z-test,t-test,p-test etc.'"
      ]
     },
     "execution_count": 6,
     "metadata": {},
     "output_type": "execute_result"
    }
   ],
   "source": [
    "\"\"\"Ans2-there are two types of the statistics \n",
    "a-Descriptive statistics-despcriptive statistics is a statistics that consists of the organizing and summarizing of the data.\n",
    "for example-histogram,pdf,pmf\n",
    "b-Infrential statistics-it consists of using data you have measured to form a conclusion.\n",
    "for example sample data to find the conclusion of the population data\n",
    "example-z-test,t-test,p-test etc.\"\"\""
   ]
  },
  {
   "cell_type": "code",
   "execution_count": 5,
   "id": "50a57b1c-54ae-4aa0-831b-59e5e3de4d65",
   "metadata": {},
   "outputs": [
    {
     "data": {
      "text/plain": [
       "'Ans3-there are two types of the statistics \\n1-numerical or quantitative data-this type of data represent the nuneric values,numerical data give information about the quantity of the specfic thing.\\nexample-height,length,weight,size etc.\\nthere are two types also-\\na-Descrete data-descrete data can take descrete value.example number of the student in the class.\\nb-Continuous data-continuos data is a data that can be calculated.example temprature range.\\n2-Categorical or qualitative data-categorical data is a data that fit into the categories.example-birthdate ,favrate sports etc.\\nthere are also two types\\na-nominal data-this type of the data which help to label the variables without providing the numerical values.example of nominal data gender ,words.\\nb-ordinal data-ordinal data is a type of the data that follow a natural order,example of nominal data finance ,economics survey etc.'"
      ]
     },
     "execution_count": 5,
     "metadata": {},
     "output_type": "execute_result"
    }
   ],
   "source": [
    "\"\"\"Ans3-there are two types of the statistics \n",
    "1-numerical or quantitative data-this type of data represent the nuneric values,numerical data give information about the quantity of the specfic thing.\n",
    "example-height,length,weight,size etc.\n",
    "there are two types also-\n",
    "a-Descrete data-descrete data can take descrete value.example number of the student in the class.\n",
    "b-Continuous data-continuos data is a data that can be calculated.example temprature range.\n",
    "2-Categorical or qualitative data-categorical data is a data that fit into the categories.example-birthdate ,favrate sports etc.\n",
    "there are also two types\n",
    "a-nominal data-this type of the data which help to label the variables without providing the numerical values.example of nominal data gender ,words.\n",
    "b-ordinal data-ordinal data is a type of the data that follow a natural order,example of nominal data finance ,economics survey etc.\"\"\""
   ]
  },
  {
   "cell_type": "code",
   "execution_count": 1,
   "id": "599f2b80-2b0b-4c5e-b342-b899b09998cf",
   "metadata": {},
   "outputs": [
    {
     "data": {
      "text/plain": [
       "'Ans4-\\na-ordinal data\\nb-nominal data\\nc-continous data\\nd-descrete data'"
      ]
     },
     "execution_count": 1,
     "metadata": {},
     "output_type": "execute_result"
    }
   ],
   "source": [
    "\"\"\"Ans4-\n",
    "a-ordinal data\n",
    "b-nominal data\n",
    "c-continous data\n",
    "d-descrete data\"\"\"\n"
   ]
  },
  {
   "cell_type": "code",
   "execution_count": 2,
   "id": "982bff77-25bb-4793-bbde-b607bd954761",
   "metadata": {},
   "outputs": [
    {
     "data": {
      "text/plain": [
       "'Ans5-Lavel of the measurement\\n1-Nominal scale of data-That data can only be categarized.\\nfor example-zip code,political preference,employment status,literacy genre\\n2-ordinal scale of the data-the data can be categorized and ranked.\\nfor example-language ability,level of the agreement,income level\\n3-interval scale of the data-the data can be categorized and ranked evenly spaced.\\nfor example standardized test,physicological inventories.\\n4-ratio scale of the data-the data can be categorized and ranked space and natural zeros.\\nlength of area and poplation  are example of the ratio of the data.'"
      ]
     },
     "execution_count": 2,
     "metadata": {},
     "output_type": "execute_result"
    }
   ],
   "source": [
    "\"\"\"Ans5-Lavel of the measurement\n",
    "1-Nominal scale of data-That data can only be categarized.\n",
    "for example-zip code,political preference,employment status,literacy genre\n",
    "2-ordinal scale of the data-the data can be categorized and ranked.\n",
    "for example-language ability,level of the agreement,income level\n",
    "3-interval scale of the data-the data can be categorized and ranked evenly spaced.\n",
    "for example standardized test,physicological inventories.\n",
    "4-ratio scale of the data-the data can be categorized and ranked space and natural zeros.\n",
    "length of area and poplation  are example of the ratio of the data.\"\"\"\n"
   ]
  },
  {
   "cell_type": "code",
   "execution_count": 3,
   "id": "9371de47-367e-4c5c-94f4-d278cd7b2fbd",
   "metadata": {},
   "outputs": [
    {
     "data": {
      "text/plain": [
       "'Ans6-level of the measurement helps you decide what statistical analysis is appropriate on the value that are assigned.\\nthere are four types of the level of the measurement\\na-nominal-attributes are only named.\\nb-ordinal-attributes can be orderd.\\nc-interval-distance is meaningful\\nd-ratio-abslute zero'"
      ]
     },
     "execution_count": 3,
     "metadata": {},
     "output_type": "execute_result"
    }
   ],
   "source": [
    "\"\"\"Ans6-level of the measurement helps you decide what statistical analysis is appropriate on the value that are assigned.\n",
    "there are four types of the level of the measurement\n",
    "a-nominal-attributes are only named.\n",
    "b-ordinal-attributes can be orderd.\n",
    "c-interval-distance is meaningful\n",
    "d-ratio-abslute zero\"\"\""
   ]
  },
  {
   "cell_type": "code",
   "execution_count": 4,
   "id": "216cc97c-59bc-4fae-b25a-97ecceb54070",
   "metadata": {},
   "outputs": [],
   "source": [
    "#Ans7-Nominal data types is classiied without order or rank.\n",
    "#but ordinal data types descibes order or rank."
   ]
  },
  {
   "cell_type": "code",
   "execution_count": 5,
   "id": "9767681c-41d2-464d-91d7-0a5421cecfa3",
   "metadata": {},
   "outputs": [],
   "source": [
    "#Ans8-python histogram plotting for exmple numpy ,seaborn ,pandas and matplotlib."
   ]
  },
  {
   "cell_type": "code",
   "execution_count": 6,
   "id": "a8f03a75-7062-4abf-8da5-c733d25d815d",
   "metadata": {},
   "outputs": [
    {
     "data": {
      "text/plain": [
       "'Ans9-\\ndescriptive statistics -which is concerned with describing the population under study.\\ninferential statistics-focuses on  drawing conclusion about hte population.\\nthese types of the statistics they can be used by the collecting ,analyzing and organizing of the data.\\n types-\\n 1-numerical or quantitative data-this type of data represent the nuneric values,numerical data give information about the quantity of the specfic thing.\\nexample-height,length,weight,size etc.\\nthere are two types also-\\na-Descrete data-descrete data can take descrete value.example number of the student in the class.\\nb-Continuous data-continuos data is a data that can be calculated.example temprature range.\\n2-Categorical or qualitative data-categorical data is a data that fit into the categories.example-birthdate ,favrate sports etc.\\nthere are also two types\\na-nominal data-this type of the data which help to label the variables without providing the numerical values.example of nominal data gender ,words.\\nb-ordinal data-ordinal data is a type of the data that follow a natural order,example of nominal data finance ,economics survey etc.'"
      ]
     },
     "execution_count": 6,
     "metadata": {},
     "output_type": "execute_result"
    }
   ],
   "source": [
    "\"\"\"Ans9-\n",
    "descriptive statistics -which is concerned with describing the population under study.\n",
    "inferential statistics-focuses on  drawing conclusion about hte population.\n",
    "these types of the statistics they can be used by the collecting ,analyzing and organizing of the data.\n",
    " types-\n",
    " 1-numerical or quantitative data-this type of data represent the nuneric values,numerical data give information about the quantity of the specfic thing.\n",
    "example-height,length,weight,size etc.\n",
    "there are two types also-\n",
    "a-Descrete data-descrete data can take descrete value.example number of the student in the class.\n",
    "b-Continuous data-continuos data is a data that can be calculated.example temprature range.\n",
    "2-Categorical or qualitative data-categorical data is a data that fit into the categories.example-birthdate ,favrate sports etc.\n",
    "there are also two types\n",
    "a-nominal data-this type of the data which help to label the variables without providing the numerical values.example of nominal data gender ,words.\n",
    "b-ordinal data-ordinal data is a type of the data that follow a natural order,example of nominal data finance ,economics survey etc.\"\"\""
   ]
  },
  {
   "cell_type": "code",
   "execution_count": null,
   "id": "09fc8378-7d5e-4925-a9a6-03fecf312f34",
   "metadata": {},
   "outputs": [],
   "source": [
    "\"\"\"Ans10-Some comman measurement of the central tendancy\n",
    "1-mean\n",
    "2-median\n",
    "3-mode"
   ]
  },
  {
   "cell_type": "code",
   "execution_count": 7,
   "id": "bd8d6d0a-48a6-4e10-8f05-200fe9c512cc",
   "metadata": {},
   "outputs": [
    {
     "ename": "SyntaxError",
     "evalue": "invalid syntax (3966663903.py, line 1)",
     "output_type": "error",
     "traceback": [
      "\u001b[0;36m  Cell \u001b[0;32mIn[7], line 1\u001b[0;36m\u001b[0m\n\u001b[0;31m    mean(average)-\u001b[0m\n\u001b[0m                  ^\u001b[0m\n\u001b[0;31mSyntaxError\u001b[0m\u001b[0;31m:\u001b[0m invalid syntax\n"
     ]
    }
   ],
   "source": [
    "mean(average)-\n",
    "age=[12,23,34,45,54,32,78,100]"
   ]
  },
  {
   "cell_type": "code",
   "execution_count": 8,
   "id": "68e63fd7-f9a9-440f-a0b2-0d9943d7c411",
   "metadata": {},
   "outputs": [
    {
     "ename": "NameError",
     "evalue": "name 'age' is not defined",
     "output_type": "error",
     "traceback": [
      "\u001b[0;31m---------------------------------------------------------------------------\u001b[0m",
      "\u001b[0;31mNameError\u001b[0m                                 Traceback (most recent call last)",
      "Cell \u001b[0;32mIn[8], line 2\u001b[0m\n\u001b[1;32m      1\u001b[0m \u001b[38;5;28;01mimport\u001b[39;00m \u001b[38;5;21;01mnumpy\u001b[39;00m \u001b[38;5;28;01mas\u001b[39;00m \u001b[38;5;21;01mnp\u001b[39;00m\n\u001b[0;32m----> 2\u001b[0m np\u001b[38;5;241m.\u001b[39mmean(\u001b[43mage\u001b[49m)\n",
      "\u001b[0;31mNameError\u001b[0m: name 'age' is not defined"
     ]
    }
   ],
   "source": [
    "import numpy as np\n",
    "np.mean(age)"
   ]
  },
  {
   "cell_type": "code",
   "execution_count": null,
   "id": "a325a42d-f855-40ec-9168-1ec686d6ce73",
   "metadata": {},
   "outputs": [],
   "source": [
    "weights=[34,45,67,78.90,45,85]\n",
    "np.mean(weights)"
   ]
  },
  {
   "cell_type": "code",
   "execution_count": 9,
   "id": "99ccce8f-cdc5-45de-a626-74a8fb88f525",
   "metadata": {},
   "outputs": [
    {
     "data": {
      "text/html": [
       "<div>\n",
       "<style scoped>\n",
       "    .dataframe tbody tr th:only-of-type {\n",
       "        vertical-align: middle;\n",
       "    }\n",
       "\n",
       "    .dataframe tbody tr th {\n",
       "        vertical-align: top;\n",
       "    }\n",
       "\n",
       "    .dataframe thead th {\n",
       "        text-align: right;\n",
       "    }\n",
       "</style>\n",
       "<table border=\"1\" class=\"dataframe\">\n",
       "  <thead>\n",
       "    <tr style=\"text-align: right;\">\n",
       "      <th></th>\n",
       "      <th>total_bill</th>\n",
       "      <th>tip</th>\n",
       "      <th>sex</th>\n",
       "      <th>smoker</th>\n",
       "      <th>day</th>\n",
       "      <th>time</th>\n",
       "      <th>size</th>\n",
       "    </tr>\n",
       "  </thead>\n",
       "  <tbody>\n",
       "    <tr>\n",
       "      <th>0</th>\n",
       "      <td>16.99</td>\n",
       "      <td>1.01</td>\n",
       "      <td>Female</td>\n",
       "      <td>No</td>\n",
       "      <td>Sun</td>\n",
       "      <td>Dinner</td>\n",
       "      <td>2</td>\n",
       "    </tr>\n",
       "    <tr>\n",
       "      <th>1</th>\n",
       "      <td>10.34</td>\n",
       "      <td>1.66</td>\n",
       "      <td>Male</td>\n",
       "      <td>No</td>\n",
       "      <td>Sun</td>\n",
       "      <td>Dinner</td>\n",
       "      <td>3</td>\n",
       "    </tr>\n",
       "    <tr>\n",
       "      <th>2</th>\n",
       "      <td>21.01</td>\n",
       "      <td>3.50</td>\n",
       "      <td>Male</td>\n",
       "      <td>No</td>\n",
       "      <td>Sun</td>\n",
       "      <td>Dinner</td>\n",
       "      <td>3</td>\n",
       "    </tr>\n",
       "    <tr>\n",
       "      <th>3</th>\n",
       "      <td>23.68</td>\n",
       "      <td>3.31</td>\n",
       "      <td>Male</td>\n",
       "      <td>No</td>\n",
       "      <td>Sun</td>\n",
       "      <td>Dinner</td>\n",
       "      <td>2</td>\n",
       "    </tr>\n",
       "    <tr>\n",
       "      <th>4</th>\n",
       "      <td>24.59</td>\n",
       "      <td>3.61</td>\n",
       "      <td>Female</td>\n",
       "      <td>No</td>\n",
       "      <td>Sun</td>\n",
       "      <td>Dinner</td>\n",
       "      <td>4</td>\n",
       "    </tr>\n",
       "  </tbody>\n",
       "</table>\n",
       "</div>"
      ],
      "text/plain": [
       "   total_bill   tip     sex smoker  day    time  size\n",
       "0       16.99  1.01  Female     No  Sun  Dinner     2\n",
       "1       10.34  1.66    Male     No  Sun  Dinner     3\n",
       "2       21.01  3.50    Male     No  Sun  Dinner     3\n",
       "3       23.68  3.31    Male     No  Sun  Dinner     2\n",
       "4       24.59  3.61  Female     No  Sun  Dinner     4"
      ]
     },
     "execution_count": 9,
     "metadata": {},
     "output_type": "execute_result"
    }
   ],
   "source": [
    "import seaborn as sns\n",
    "\n",
    "df=sns.load_dataset('tips')\n",
    "\n",
    "df.head()"
   ]
  },
  {
   "cell_type": "code",
   "execution_count": 10,
   "id": "1d9a9d1f-eef5-40de-aef0-1bd70e978403",
   "metadata": {},
   "outputs": [
    {
     "data": {
      "text/plain": [
       "19.78594262295082"
      ]
     },
     "execution_count": 10,
     "metadata": {},
     "output_type": "execute_result"
    }
   ],
   "source": [
    "np.mean(df['total_bill'])"
   ]
  },
  {
   "cell_type": "code",
   "execution_count": 11,
   "id": "15c191c3-f30c-4851-98c6-4019773af456",
   "metadata": {},
   "outputs": [
    {
     "data": {
      "text/plain": [
       "39.5"
      ]
     },
     "execution_count": 11,
     "metadata": {},
     "output_type": "execute_result"
    }
   ],
   "source": [
    "#median()\n",
    "\n",
    "\n",
    "age=[12,23,34,45,54,32,78,100]\n",
    "\n",
    "np.median(age)"
   ]
  },
  {
   "cell_type": "code",
   "execution_count": 12,
   "id": "80ee2a9c-901c-45c1-aa5f-e9951b05ca17",
   "metadata": {},
   "outputs": [
    {
     "data": {
      "text/plain": [
       "64.22222222222223"
      ]
     },
     "execution_count": 12,
     "metadata": {},
     "output_type": "execute_result"
    }
   ],
   "source": [
    "age=[12,23,34,45,54,32,78,100,200]\n",
    "np.mean(age)"
   ]
  },
  {
   "cell_type": "code",
   "execution_count": 13,
   "id": "c8b19b65-1e48-4f44-b94e-cf4a06011b69",
   "metadata": {},
   "outputs": [
    {
     "data": {
      "text/plain": [
       "45.0"
      ]
     },
     "execution_count": 13,
     "metadata": {},
     "output_type": "execute_result"
    }
   ],
   "source": [
    "np.median(age)"
   ]
  },
  {
   "cell_type": "code",
   "execution_count": 14,
   "id": "b08ec97d-9aeb-4300-af95-359534dfffc0",
   "metadata": {},
   "outputs": [],
   "source": [
    "from scipy import stats"
   ]
  },
  {
   "cell_type": "code",
   "execution_count": 15,
   "id": "51c25a78-5d54-467a-b786-15ffa43d8948",
   "metadata": {},
   "outputs": [
    {
     "name": "stderr",
     "output_type": "stream",
     "text": [
      "/tmp/ipykernel_77/2474845003.py:1: FutureWarning: Unlike other reduction functions (e.g. `skew`, `kurtosis`), the default behavior of `mode` typically preserves the axis it acts along. In SciPy 1.11.0, this behavior will change: the default value of `keepdims` will become False, the `axis` over which the statistic is taken will be eliminated, and the value None will no longer be accepted. Set `keepdims` to True or False to avoid this warning.\n",
      "  stats.mode(age)\n"
     ]
    },
    {
     "data": {
      "text/plain": [
       "ModeResult(mode=array([12]), count=array([1]))"
      ]
     },
     "execution_count": 15,
     "metadata": {},
     "output_type": "execute_result"
    }
   ],
   "source": [
    "stats.mode(age)"
   ]
  },
  {
   "cell_type": "code",
   "execution_count": 16,
   "id": "ae7fe160-8d50-4399-9f4e-e07a93759930",
   "metadata": {},
   "outputs": [
    {
     "data": {
      "text/plain": [
       "17.795"
      ]
     },
     "execution_count": 16,
     "metadata": {},
     "output_type": "execute_result"
    }
   ],
   "source": [
    "np.median(df['total_bill'])"
   ]
  },
  {
   "cell_type": "code",
   "execution_count": null,
   "id": "0821d895-9ebc-4e25-a342-ee85a06de3b5",
   "metadata": {},
   "outputs": [],
   "source": []
  }
 ],
 "metadata": {
  "kernelspec": {
   "display_name": "Python 3 (ipykernel)",
   "language": "python",
   "name": "python3"
  },
  "language_info": {
   "codemirror_mode": {
    "name": "ipython",
    "version": 3
   },
   "file_extension": ".py",
   "mimetype": "text/x-python",
   "name": "python",
   "nbconvert_exporter": "python",
   "pygments_lexer": "ipython3",
   "version": "3.10.8"
  }
 },
 "nbformat": 4,
 "nbformat_minor": 5
}
